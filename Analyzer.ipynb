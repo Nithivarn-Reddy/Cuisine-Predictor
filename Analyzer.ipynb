{
  "nbformat": 4,
  "nbformat_minor": 0,
  "metadata": {
    "colab": {
      "name": "Analyzer.ipynb",
      "provenance": []
    },
    "kernelspec": {
      "name": "python3",
      "display_name": "Python 3"
    }
  },
  "cells": [
    {
      "cell_type": "code",
      "metadata": {
        "id": "V5H9UlOAbaOl",
        "colab_type": "code",
        "colab": {}
      },
      "source": [
        "import pandas as pd\n",
        "from sklearn.feature_extraction.text import TfidfVectorizer\n",
        "import numpy as np\n",
        "from sklearn.ensemble import RandomForestClassifier\n",
        "from sklearn.metrics.pairwise import cosine_similarity"
      ],
      "execution_count": 0,
      "outputs": []
    },
    {
      "cell_type": "code",
      "metadata": {
        "id": "zKILFY3ETOtT",
        "colab_type": "code",
        "colab": {}
      },
      "source": [
        "def read_json_df(path='/yummly.json'):\n",
        "  df = pd.read_json(path)\n",
        "  return df"
      ],
      "execution_count": 0,
      "outputs": []
    },
    {
      "cell_type": "code",
      "metadata": {
        "id": "jvbC795jUgpj",
        "colab_type": "code",
        "colab": {}
      },
      "source": [
        "def generate_tf_idf(df,input_ingredient):\n",
        "  ingredients_list = df['ingredients']\n",
        "  #ingredients_list.append(input_ingredient[0])\n",
        "  ingredients_corpus = []\n",
        "  for l in ingredients_list:\n",
        "    s = ' '.join(l)\n",
        "    ingredients_corpus.append(s)\n",
        "  #print(len(ingredients_corpus))\n",
        "  input_string = ' '.join(input_ingredient)\n",
        "  ingredients_corpus.append(input_string)\n",
        "  #print(ingredients_corpus[:10])\n",
        "  tfidf_vectorizer = TfidfVectorizer(min_df=1)\n",
        "  doc_matrix = tfidf_vectorizer.fit_transform(ingredients_corpus)\n",
        "  return doc_matrix"
      ],
      "execution_count": 0,
      "outputs": []
    },
    {
      "cell_type": "code",
      "metadata": {
        "id": "uQivtt_KUmmv",
        "colab_type": "code",
        "colab": {}
      },
      "source": [
        "def prediction(df,doc_matrix):\n",
        "  labels = df['cuisine']\n",
        "  doc_matrix_with_out_input = doc_matrix[:-1]\n",
        "  #print(doc_matrix_with_out_input.shape)\n",
        "  input_vector= doc_matrix[-1]\n",
        "  clf = RandomForestClassifier()\n",
        "  model_pickle=clf.fit(doc_matrix_with_out_input,labels)\n",
        "  y_pred = clf.predict(input_vector)\n",
        "  return y_pred"
      ],
      "execution_count": 0,
      "outputs": []
    },
    {
      "cell_type": "code",
      "metadata": {
        "id": "YDdS5EgQUq2i",
        "colab_type": "code",
        "colab": {}
      },
      "source": [
        "def top_n_similar(doc_matrix,df,n_top=8):\n",
        "  doc_matrix_with_out_input = doc_matrix[:-1]\n",
        "  input_vector= doc_matrix[-1]\n",
        "  scores = cosine_similarity(input_vector,doc_matrix_with_out_input)\n",
        "  sorted_scores = scores[0].argsort()[::-1][:n_top]\n",
        "  scores_indices = [ (index,round(scores[0][index],4)) for index in sorted_scores ]\n",
        "  ids = list(df['id'])\n",
        "  cuisines = list(df['cuisine'])\n",
        "  closest_cusines = []\n",
        "  for index,score in scores_indices:\n",
        "    closest_cusines.append((ids[index],score,cuisines[index]))\n",
        "  return closest_cusines"
      ],
      "execution_count": 0,
      "outputs": []
    },
    {
      "cell_type": "markdown",
      "metadata": {
        "id": "UcfVzO0lbxC0",
        "colab_type": "text"
      },
      "source": [
        "**Reading the json_data to dataframe.**"
      ]
    },
    {
      "cell_type": "code",
      "metadata": {
        "id": "nSLM8GBQU37a",
        "colab_type": "code",
        "colab": {}
      },
      "source": [
        "df = read_json_df(None)"
      ],
      "execution_count": 0,
      "outputs": []
    },
    {
      "cell_type": "markdown",
      "metadata": {
        "id": "_Wi2NzMVb_wc",
        "colab_type": "text"
      },
      "source": [
        "**Some statistics of df**"
      ]
    },
    {
      "cell_type": "code",
      "metadata": {
        "id": "IF9dfxMpbYr3",
        "colab_type": "code",
        "colab": {
          "base_uri": "https://localhost:8080/",
          "height": 419
        },
        "outputId": "8e9f1920-036c-4119-d00e-375250424c45"
      },
      "source": [
        "df"
      ],
      "execution_count": 9,
      "outputs": [
        {
          "output_type": "execute_result",
          "data": {
            "text/html": [
              "<div>\n",
              "<style scoped>\n",
              "    .dataframe tbody tr th:only-of-type {\n",
              "        vertical-align: middle;\n",
              "    }\n",
              "\n",
              "    .dataframe tbody tr th {\n",
              "        vertical-align: top;\n",
              "    }\n",
              "\n",
              "    .dataframe thead th {\n",
              "        text-align: right;\n",
              "    }\n",
              "</style>\n",
              "<table border=\"1\" class=\"dataframe\">\n",
              "  <thead>\n",
              "    <tr style=\"text-align: right;\">\n",
              "      <th></th>\n",
              "      <th>id</th>\n",
              "      <th>cuisine</th>\n",
              "      <th>ingredients</th>\n",
              "    </tr>\n",
              "  </thead>\n",
              "  <tbody>\n",
              "    <tr>\n",
              "      <th>0</th>\n",
              "      <td>10259</td>\n",
              "      <td>greek</td>\n",
              "      <td>[romaine lettuce, black olives, grape tomatoes...</td>\n",
              "    </tr>\n",
              "    <tr>\n",
              "      <th>1</th>\n",
              "      <td>25693</td>\n",
              "      <td>southern_us</td>\n",
              "      <td>[plain flour, ground pepper, salt, tomatoes, g...</td>\n",
              "    </tr>\n",
              "    <tr>\n",
              "      <th>2</th>\n",
              "      <td>20130</td>\n",
              "      <td>filipino</td>\n",
              "      <td>[eggs, pepper, salt, mayonaise, cooking oil, g...</td>\n",
              "    </tr>\n",
              "    <tr>\n",
              "      <th>3</th>\n",
              "      <td>22213</td>\n",
              "      <td>indian</td>\n",
              "      <td>[water, vegetable oil, wheat, salt]</td>\n",
              "    </tr>\n",
              "    <tr>\n",
              "      <th>4</th>\n",
              "      <td>13162</td>\n",
              "      <td>indian</td>\n",
              "      <td>[black pepper, shallots, cornflour, cayenne pe...</td>\n",
              "    </tr>\n",
              "    <tr>\n",
              "      <th>...</th>\n",
              "      <td>...</td>\n",
              "      <td>...</td>\n",
              "      <td>...</td>\n",
              "    </tr>\n",
              "    <tr>\n",
              "      <th>39769</th>\n",
              "      <td>29109</td>\n",
              "      <td>irish</td>\n",
              "      <td>[light brown sugar, granulated sugar, butter, ...</td>\n",
              "    </tr>\n",
              "    <tr>\n",
              "      <th>39770</th>\n",
              "      <td>11462</td>\n",
              "      <td>italian</td>\n",
              "      <td>[KRAFT Zesty Italian Dressing, purple onion, b...</td>\n",
              "    </tr>\n",
              "    <tr>\n",
              "      <th>39771</th>\n",
              "      <td>2238</td>\n",
              "      <td>irish</td>\n",
              "      <td>[eggs, citrus fruit, raisins, sourdough starte...</td>\n",
              "    </tr>\n",
              "    <tr>\n",
              "      <th>39772</th>\n",
              "      <td>41882</td>\n",
              "      <td>chinese</td>\n",
              "      <td>[boneless chicken skinless thigh, minced garli...</td>\n",
              "    </tr>\n",
              "    <tr>\n",
              "      <th>39773</th>\n",
              "      <td>2362</td>\n",
              "      <td>mexican</td>\n",
              "      <td>[green chile, jalapeno chilies, onions, ground...</td>\n",
              "    </tr>\n",
              "  </tbody>\n",
              "</table>\n",
              "<p>39774 rows × 3 columns</p>\n",
              "</div>"
            ],
            "text/plain": [
              "          id      cuisine                                        ingredients\n",
              "0      10259        greek  [romaine lettuce, black olives, grape tomatoes...\n",
              "1      25693  southern_us  [plain flour, ground pepper, salt, tomatoes, g...\n",
              "2      20130     filipino  [eggs, pepper, salt, mayonaise, cooking oil, g...\n",
              "3      22213       indian                [water, vegetable oil, wheat, salt]\n",
              "4      13162       indian  [black pepper, shallots, cornflour, cayenne pe...\n",
              "...      ...          ...                                                ...\n",
              "39769  29109        irish  [light brown sugar, granulated sugar, butter, ...\n",
              "39770  11462      italian  [KRAFT Zesty Italian Dressing, purple onion, b...\n",
              "39771   2238        irish  [eggs, citrus fruit, raisins, sourdough starte...\n",
              "39772  41882      chinese  [boneless chicken skinless thigh, minced garli...\n",
              "39773   2362      mexican  [green chile, jalapeno chilies, onions, ground...\n",
              "\n",
              "[39774 rows x 3 columns]"
            ]
          },
          "metadata": {
            "tags": []
          },
          "execution_count": 9
        }
      ]
    },
    {
      "cell_type": "code",
      "metadata": {
        "id": "vHDHmFkwbnEs",
        "colab_type": "code",
        "colab": {
          "base_uri": "https://localhost:8080/",
          "height": 34
        },
        "outputId": "83803651-cff0-4ae0-dcf9-18b6b767a855"
      },
      "source": [
        "df.columns"
      ],
      "execution_count": 10,
      "outputs": [
        {
          "output_type": "execute_result",
          "data": {
            "text/plain": [
              "Index(['id', 'cuisine', 'ingredients'], dtype='object')"
            ]
          },
          "metadata": {
            "tags": []
          },
          "execution_count": 10
        }
      ]
    },
    {
      "cell_type": "code",
      "metadata": {
        "id": "nn5s5gzebrqn",
        "colab_type": "code",
        "colab": {
          "base_uri": "https://localhost:8080/",
          "height": 85
        },
        "outputId": "da0937ff-a181-4f89-e8ef-0f0404158d8e"
      },
      "source": [
        "df.isna().any()"
      ],
      "execution_count": 11,
      "outputs": [
        {
          "output_type": "execute_result",
          "data": {
            "text/plain": [
              "id             False\n",
              "cuisine        False\n",
              "ingredients    False\n",
              "dtype: bool"
            ]
          },
          "metadata": {
            "tags": []
          },
          "execution_count": 11
        }
      ]
    },
    {
      "cell_type": "markdown",
      "metadata": {
        "id": "ADls3FftcH0C",
        "colab_type": "text"
      },
      "source": [
        "**Input Ingredient list.**"
      ]
    },
    {
      "cell_type": "code",
      "metadata": {
        "id": "iYaiwAVJbubb",
        "colab_type": "code",
        "colab": {}
      },
      "source": [
        "input_ingredient = [\n",
        "    \"chili powder\",\n",
        "    \"pepper\",\n",
        "    \"butter\",\n",
        "    \"bread\",\n",
        "    \"chicken\",\n",
        "    \"lettuce\"\n",
        "  ]"
      ],
      "execution_count": 0,
      "outputs": []
    },
    {
      "cell_type": "markdown",
      "metadata": {
        "id": "qHM1cYGocr_4",
        "colab_type": "text"
      },
      "source": [
        "**Feature matrix generation**"
      ]
    },
    {
      "cell_type": "code",
      "metadata": {
        "id": "tvfuOlC6cmhP",
        "colab_type": "code",
        "colab": {}
      },
      "source": [
        "doc_matrix = generate_tf_idf(df,input_ingredient)"
      ],
      "execution_count": 0,
      "outputs": []
    },
    {
      "cell_type": "markdown",
      "metadata": {
        "id": "BabNLF2rc-un",
        "colab_type": "text"
      },
      "source": [
        "**Checking doc_matrix type and shape**"
      ]
    },
    {
      "cell_type": "code",
      "metadata": {
        "id": "fi7iq2-wcyab",
        "colab_type": "code",
        "colab": {
          "base_uri": "https://localhost:8080/",
          "height": 51
        },
        "outputId": "074e7d3c-aa27-4ca9-f1ef-9ac3a8e9ebe7"
      },
      "source": [
        "print(type(doc_matrix))\n",
        "print(doc_matrix.shape)"
      ],
      "execution_count": 41,
      "outputs": [
        {
          "output_type": "stream",
          "text": [
            "<class 'scipy.sparse.csr.csr_matrix'>\n",
            "(39775, 3010)\n"
          ],
          "name": "stdout"
        }
      ]
    },
    {
      "cell_type": "markdown",
      "metadata": {
        "id": "zCEXRWDHdZjU",
        "colab_type": "text"
      },
      "source": [
        "**Calling Prediction method to predict the cuisine type**"
      ]
    },
    {
      "cell_type": "code",
      "metadata": {
        "id": "4QzZj0PYdLMC",
        "colab_type": "code",
        "colab": {}
      },
      "source": [
        "ypred = prediction(df,doc_matrix)"
      ],
      "execution_count": 0,
      "outputs": []
    },
    {
      "cell_type": "markdown",
      "metadata": {
        "id": "rGZAAlGOdiQt",
        "colab_type": "text"
      },
      "source": [
        "**Printing the predicted cuisine type**"
      ]
    },
    {
      "cell_type": "code",
      "metadata": {
        "id": "z7H-gEkcdhGp",
        "colab_type": "code",
        "colab": {
          "base_uri": "https://localhost:8080/",
          "height": 34
        },
        "outputId": "82c4fbe2-ff52-4294-cc45-86a95e3620d2"
      },
      "source": [
        "ypred"
      ],
      "execution_count": 43,
      "outputs": [
        {
          "output_type": "execute_result",
          "data": {
            "text/plain": [
              "array(['mexican'], dtype=object)"
            ]
          },
          "metadata": {
            "tags": []
          },
          "execution_count": 43
        }
      ]
    },
    {
      "cell_type": "markdown",
      "metadata": {
        "id": "AyZKPNV_dynK",
        "colab_type": "text"
      },
      "source": [
        "**Calling method to get the Closest cuisines**"
      ]
    },
    {
      "cell_type": "code",
      "metadata": {
        "id": "7alvRuO5dt67",
        "colab_type": "code",
        "colab": {}
      },
      "source": [
        "closest_cuisines=top_n_similar(doc_matrix,df)"
      ],
      "execution_count": 0,
      "outputs": []
    },
    {
      "cell_type": "markdown",
      "metadata": {
        "id": "Cp1Tg83xeY7G",
        "colab_type": "text"
      },
      "source": [
        "**Closet Cuisines list with ids and scores**"
      ]
    },
    {
      "cell_type": "code",
      "metadata": {
        "id": "QvGoBUa4d8AT",
        "colab_type": "code",
        "colab": {
          "base_uri": "https://localhost:8080/",
          "height": 153
        },
        "outputId": "fedaa861-a1b0-4018-dae2-66f8ae574a38"
      },
      "source": [
        "closest_cuisines"
      ],
      "execution_count": 45,
      "outputs": [
        {
          "output_type": "execute_result",
          "data": {
            "text/plain": [
              "[(33393, 0.4467, 'mexican'),\n",
              " (19277, 0.4421, 'russian'),\n",
              " (42954, 0.4191, 'mexican'),\n",
              " (15753, 0.4139, 'russian'),\n",
              " (34743, 0.4015, 'thai'),\n",
              " (31220, 0.3963, 'mexican'),\n",
              " (13975, 0.3945, 'french'),\n",
              " (37087, 0.3857, 'indian')]"
            ]
          },
          "metadata": {
            "tags": []
          },
          "execution_count": 45
        }
      ]
    },
    {
      "cell_type": "code",
      "metadata": {
        "id": "uMaLvXjagP1n",
        "colab_type": "code",
        "colab": {
          "base_uri": "https://localhost:8080/",
          "height": 88
        },
        "outputId": "d17e2b6c-3119-418e-85e3-067aa775bdb0"
      },
      "source": [
        "print(\"Input Ingredients - \",input_ingredient)\n",
        "print(\"Predicted cuisine type for above ingredients -\",ypred)\n",
        "print(\"Closet 8 cuisines with scores (id,score,cuisine) -\",closest_cuisines)"
      ],
      "execution_count": 47,
      "outputs": [
        {
          "output_type": "stream",
          "text": [
            "Input Ingredients -  ['chili powder', 'pepper', 'butter', 'bread', 'chicken', 'lettuce']\n",
            "Predicted cuisine type for above ingredients - ['mexican']\n",
            "Closet 8 cuisines with scores (id,score,cuisine) - [(33393, 0.4467, 'mexican'), (19277, 0.4421, 'russian'), (42954, 0.4191, 'mexican'), (15753, 0.4139, 'russian'), (34743, 0.4015, 'thai'), (31220, 0.3963, 'mexican'), (13975, 0.3945, 'french'), (37087, 0.3857, 'indian')]\n"
          ],
          "name": "stdout"
        }
      ]
    },
    {
      "cell_type": "markdown",
      "metadata": {
        "id": "ujmPgk2BesNz",
        "colab_type": "text"
      },
      "source": [
        "**Testing for some other inputs**"
      ]
    },
    {
      "cell_type": "code",
      "metadata": {
        "id": "Z7VG0cTLei3S",
        "colab_type": "code",
        "colab": {}
      },
      "source": [
        "input_ingredient = [ \"rice\",\"chicken\",\"pepper\",\"tomatoes\"]"
      ],
      "execution_count": 0,
      "outputs": []
    },
    {
      "cell_type": "code",
      "metadata": {
        "id": "0gl6HPJve8b2",
        "colab_type": "code",
        "colab": {}
      },
      "source": [
        "doc_matrix = generate_tf_idf(df,input_ingredient)\n",
        "ypred = prediction(df,doc_matrix)\n",
        "closest_cuisines=top_n_similar(doc_matrix,df)"
      ],
      "execution_count": 0,
      "outputs": []
    },
    {
      "cell_type": "markdown",
      "metadata": {
        "id": "kAxD_9TRfRSb",
        "colab_type": "text"
      },
      "source": [
        "**Prediction of cuisine and closest cuisines along with scores & ids.**"
      ]
    },
    {
      "cell_type": "code",
      "metadata": {
        "id": "Lvi2WbpAfJnG",
        "colab_type": "code",
        "colab": {
          "base_uri": "https://localhost:8080/",
          "height": 88
        },
        "outputId": "2ea4e059-2493-4bde-9e8e-c8ed82bfecf0"
      },
      "source": [
        "print(\"Input Ingredients - \",input_ingredient)\n",
        "print(\"Predicted cuisine type for above ingredients -\",ypred)\n",
        "print(\"Closet 8 cuisines with scores -\",closest_cuisines)"
      ],
      "execution_count": 31,
      "outputs": [
        {
          "output_type": "stream",
          "text": [
            "Input Ingredients -  ['rice', 'chicken', 'pepper', 'tomatoes']\n",
            "Predicted cuisine type for above ingredients - ['southern_us']\n",
            "Closet 8 cuisines with scores - [(22720, 0.5912, 'chinese'), (34064, 0.5229, 'brazilian'), (5084, 0.5061, 'mexican'), (23617, 0.4841, 'mexican'), (12414, 0.4765, 'southern_us'), (25256, 0.466, 'indian'), (44076, 0.4588, 'japanese'), (25776, 0.4583, 'mexican')]\n"
          ],
          "name": "stdout"
        }
      ]
    },
    {
      "cell_type": "code",
      "metadata": {
        "id": "RVrBFif4frwD",
        "colab_type": "code",
        "colab": {}
      },
      "source": [
        ""
      ],
      "execution_count": 0,
      "outputs": []
    }
  ]
}